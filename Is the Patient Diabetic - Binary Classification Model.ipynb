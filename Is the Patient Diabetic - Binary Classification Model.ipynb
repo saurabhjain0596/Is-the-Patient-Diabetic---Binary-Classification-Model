{
 "cells": [
  {
   "cell_type": "code",
   "execution_count": 1,
   "metadata": {},
   "outputs": [],
   "source": [
    "import pandas as pd\n",
    "from matplotlib import pyplot as plt\n",
    "%matplotlib inline\n",
    "from sklearn.model_selection import train_test_split"
   ]
  },
  {
   "cell_type": "code",
   "execution_count": 2,
   "metadata": {},
   "outputs": [
    {
     "data": {
      "text/html": [
       "<div>\n",
       "<style scoped>\n",
       "    .dataframe tbody tr th:only-of-type {\n",
       "        vertical-align: middle;\n",
       "    }\n",
       "\n",
       "    .dataframe tbody tr th {\n",
       "        vertical-align: top;\n",
       "    }\n",
       "\n",
       "    .dataframe thead th {\n",
       "        text-align: right;\n",
       "    }\n",
       "</style>\n",
       "<table border=\"1\" class=\"dataframe\">\n",
       "  <thead>\n",
       "    <tr style=\"text-align: right;\">\n",
       "      <th></th>\n",
       "      <th>Pregnancies</th>\n",
       "      <th>Glucose</th>\n",
       "      <th>BloodPressure</th>\n",
       "      <th>SkinThickness</th>\n",
       "      <th>Insulin</th>\n",
       "      <th>BMI</th>\n",
       "      <th>DiabetesPedigreeFunction</th>\n",
       "      <th>Age</th>\n",
       "      <th>Outcome</th>\n",
       "    </tr>\n",
       "  </thead>\n",
       "  <tbody>\n",
       "    <tr>\n",
       "      <th>0</th>\n",
       "      <td>6</td>\n",
       "      <td>148</td>\n",
       "      <td>72</td>\n",
       "      <td>35</td>\n",
       "      <td>0</td>\n",
       "      <td>33.6</td>\n",
       "      <td>0.627</td>\n",
       "      <td>50</td>\n",
       "      <td>1</td>\n",
       "    </tr>\n",
       "    <tr>\n",
       "      <th>1</th>\n",
       "      <td>1</td>\n",
       "      <td>85</td>\n",
       "      <td>66</td>\n",
       "      <td>29</td>\n",
       "      <td>0</td>\n",
       "      <td>26.6</td>\n",
       "      <td>0.351</td>\n",
       "      <td>31</td>\n",
       "      <td>0</td>\n",
       "    </tr>\n",
       "    <tr>\n",
       "      <th>2</th>\n",
       "      <td>8</td>\n",
       "      <td>183</td>\n",
       "      <td>64</td>\n",
       "      <td>0</td>\n",
       "      <td>0</td>\n",
       "      <td>23.3</td>\n",
       "      <td>0.672</td>\n",
       "      <td>32</td>\n",
       "      <td>1</td>\n",
       "    </tr>\n",
       "    <tr>\n",
       "      <th>3</th>\n",
       "      <td>1</td>\n",
       "      <td>89</td>\n",
       "      <td>66</td>\n",
       "      <td>23</td>\n",
       "      <td>94</td>\n",
       "      <td>28.1</td>\n",
       "      <td>0.167</td>\n",
       "      <td>21</td>\n",
       "      <td>0</td>\n",
       "    </tr>\n",
       "    <tr>\n",
       "      <th>4</th>\n",
       "      <td>0</td>\n",
       "      <td>137</td>\n",
       "      <td>40</td>\n",
       "      <td>35</td>\n",
       "      <td>168</td>\n",
       "      <td>43.1</td>\n",
       "      <td>2.288</td>\n",
       "      <td>33</td>\n",
       "      <td>1</td>\n",
       "    </tr>\n",
       "  </tbody>\n",
       "</table>\n",
       "</div>"
      ],
      "text/plain": [
       "   Pregnancies  Glucose  BloodPressure  SkinThickness  Insulin   BMI  \\\n",
       "0            6      148             72             35        0  33.6   \n",
       "1            1       85             66             29        0  26.6   \n",
       "2            8      183             64              0        0  23.3   \n",
       "3            1       89             66             23       94  28.1   \n",
       "4            0      137             40             35      168  43.1   \n",
       "\n",
       "   DiabetesPedigreeFunction  Age  Outcome  \n",
       "0                     0.627   50        1  \n",
       "1                     0.351   31        0  \n",
       "2                     0.672   32        1  \n",
       "3                     0.167   21        0  \n",
       "4                     2.288   33        1  "
      ]
     },
     "execution_count": 2,
     "metadata": {},
     "output_type": "execute_result"
    }
   ],
   "source": [
    "diabetes = pd.read_csv('diabetes.csv')\n",
    "diabetes.head()"
   ]
  },
  {
   "cell_type": "code",
   "execution_count": 3,
   "metadata": {},
   "outputs": [
    {
     "data": {
      "text/plain": [
       "['Pregnancies',\n",
       " 'Glucose',\n",
       " 'BloodPressure',\n",
       " 'SkinThickness',\n",
       " 'Insulin',\n",
       " 'BMI',\n",
       " 'DiabetesPedigreeFunction',\n",
       " 'Age',\n",
       " 'Outcome']"
      ]
     },
     "execution_count": 3,
     "metadata": {},
     "output_type": "execute_result"
    }
   ],
   "source": [
    "diabetes.columns.to_list()"
   ]
  },
  {
   "cell_type": "code",
   "execution_count": 4,
   "metadata": {},
   "outputs": [
    {
     "data": {
      "image/png": "[encoded data removed]",
      "text/plain": [
       "<Figure size 432x432 with 1 Axes>"
      ]
     },
     "metadata": {
      "needs_background": "light"
     },
     "output_type": "display_data"
    },
    {
     "data": {
      "image/png": "[encoded data removed]",
      "text/plain": [
       "<Figure size 432x432 with 1 Axes>"
      ]
     },
     "metadata": {
      "needs_background": "light"
     },
     "output_type": "display_data"
    },
    {
     "data": {
      "image/png": "[encoded data removed]",
      "text/plain": [
       "<Figure size 432x432 with 1 Axes>"
      ]
     },
     "metadata": {
      "needs_background": "light"
     },
     "output_type": "display_data"
    },
    {
     "data": {
      "image/png": "[encoded data removed]",
      "text/plain": [
       "<Figure size 432x432 with 1 Axes>"
      ]
     },
     "metadata": {
      "needs_background": "light"
     },
     "output_type": "display_data"
    },
    {
     "data": {
      "image/png": "[encoded data removed]",
      "text/plain": [
       "<Figure size 432x432 with 1 Axes>"
      ]
     },
     "metadata": {
      "needs_background": "light"
     },
     "output_type": "display_data"
    },
    {
     "data": {
      "image/png": "[encoded data removed]",
      "text/plain": [
       "<Figure size 432x432 with 1 Axes>"
      ]
     },
     "metadata": {
      "needs_background": "light"
     },
     "output_type": "display_data"
    },
    {
     "data": {
      "image/png": "[encoded data removed]",
      "text/plain": [
       "<Figure size 432x432 with 1 Axes>"
      ]
     },
     "metadata": {
      "needs_background": "light"
     },
     "output_type": "display_data"
    },
    {
     "data": {
      "image/png": "[encoded data removed]",
      "text/plain": [
       "<Figure size 432x432 with 1 Axes>"
      ]
     },
     "metadata": {
      "needs_background": "light"
     },
     "output_type": "display_data"
    },
    {
     "data": {
      "image/png": "[encoded data removed]",
      "text/plain": [
       "<Figure size 432x432 with 1 Axes>"
      ]
     },
     "metadata": {
      "needs_background": "light"
     },
     "output_type": "display_data"
    }
   ],
   "source": [
    "features = diabetes.columns.to_list()\n",
    "for col in features:\n",
    "    diabetes.boxplot(column=col, by='Outcome', figsize=(6,6))\n",
    "    plt.title(col)\n",
    "plt.show()"
   ]
  },
  {
   "cell_type": "code",
   "execution_count": 5,
   "metadata": {},
   "outputs": [
    {
     "data": {
      "text/plain": [
       "['Pregnancies',\n",
       " 'Glucose',\n",
       " 'BloodPressure',\n",
       " 'SkinThickness',\n",
       " 'Insulin',\n",
       " 'BMI',\n",
       " 'DiabetesPedigreeFunction',\n",
       " 'Age',\n",
       " 'Outcome']"
      ]
     },
     "execution_count": 5,
     "metadata": {},
     "output_type": "execute_result"
    }
   ],
   "source": [
    "features"
   ]
  },
  {
   "cell_type": "code",
   "execution_count": 6,
   "metadata": {},
   "outputs": [],
   "source": [
    "features = diabetes.columns.to_list()\n",
    "label = 'Outcome'\n",
    "X, y = diabetes[features].values, diabetes[label].values"
   ]
  },
  {
   "cell_type": "code",
   "execution_count": 7,
   "metadata": {},
   "outputs": [
    {
     "data": {
      "text/plain": [
       "array([[  6.   , 148.   ,  72.   , ...,   0.627,  50.   ,   1.   ],\n",
       "       [  1.   ,  85.   ,  66.   , ...,   0.351,  31.   ,   0.   ],\n",
       "       [  8.   , 183.   ,  64.   , ...,   0.672,  32.   ,   1.   ],\n",
       "       ...,\n",
       "       [  5.   , 121.   ,  72.   , ...,   0.245,  30.   ,   0.   ],\n",
       "       [  1.   , 126.   ,  60.   , ...,   0.349,  47.   ,   1.   ],\n",
       "       [  1.   ,  93.   ,  70.   , ...,   0.315,  23.   ,   0.   ]])"
      ]
     },
     "execution_count": 7,
     "metadata": {},
     "output_type": "execute_result"
    }
   ],
   "source": [
    "X"
   ]
  },
  {
   "cell_type": "code",
   "execution_count": 8,
   "metadata": {},
   "outputs": [
    {
     "name": "stdout",
     "output_type": "stream",
     "text": [
      "X_train: (537, 9) \n",
      "X_test: (231, 9) \n",
      "y_train: (537,) \n",
      "y_test: (231,)\n"
     ]
    }
   ],
   "source": [
    "# Split data 70%-30% into training set and test set\n",
    "X_train, X_test, y_train, y_test = train_test_split(X, y, test_size= 0.3, random_state= 0)\n",
    "print (f'X_train: {X_train.shape} \\nX_test: {X_test.shape} \\ny_train: {y_train.shape} \\ny_test: {y_test.shape}')"
   ]
  },
  {
   "cell_type": "code",
   "execution_count": 9,
   "metadata": {},
   "outputs": [
    {
     "name": "stdout",
     "output_type": "stream",
     "text": [
      "LogisticRegression(C=100.0, class_weight=None, dual=False, fit_intercept=True,\n",
      "                   intercept_scaling=1, l1_ratio=None, max_iter=100,\n",
      "                   multi_class='auto', n_jobs=None, penalty='l2',\n",
      "                   random_state=None, solver='liblinear', tol=0.0001, verbose=0,\n",
      "                   warm_start=False)\n"
     ]
    }
   ],
   "source": [
    "# Train the model\n",
    "from sklearn.linear_model import LogisticRegression\n",
    "\n",
    "# Set regularization rate\n",
    "reg = 0.01\n",
    "\n",
    "# train a logistic regression model on the training set\n",
    "model = LogisticRegression(C=1/reg, solver=\"liblinear\").fit(X_train, y_train)\n",
    "print (model)"
   ]
  },
  {
   "cell_type": "code",
   "execution_count": 10,
   "metadata": {},
   "outputs": [
    {
     "name": "stdout",
     "output_type": "stream",
     "text": [
      "Predicted labels:  [1 0 0 1 0 0 1 1 0 0 1 1 0 0 0 0 1 0 0 0 1 1 0 0 0 0 0 0 0 0 0 0 0 0 0 1 1\n",
      " 0 0 0 0 0 0 1 1 0 0 1 1 1 0 0 1 0 0 0 0 1 1 1 1 0 0 1 1 1 1 0 0 0 0 0 0 0\n",
      " 1 0 0 0 0 0 0 0 0 0 0 0 1 0 1 0 0 0 0 0 0 0 1 0 1 1 0 0 0 0 0 1 0 0 0 1 0\n",
      " 1 1 1 1 1 0 0 0 1 0 0 0 0 0 0 0 1 0 0 0 0 0 1 0 1 0 1 1 0 0 0 0 0 1 0 0 0\n",
      " 0 1 0 1 0 0 1 0 0 0 1 1 1 1 0 0 0 1 0 0 0 0 0 0 1 1 0 0 0 0 0 0 1 1 0 1 1\n",
      " 0 1 1 1 0 0 0 0 0 0 1 1 0 0 0 0 0 0 0 1 0 0 0 1 0 1 0 0 0 0 0 1 1 0 0 1 0\n",
      " 1 1 0 0 1 1 0 0 0]\n",
      "Actual labels:     [1 0 0 1 0 0 1 1 0 0 1 1 0 0 0 0 1 0 0 0 1 1 0 0 0 0 0 0 0 0 0 0 0 0 0 1 1\n",
      " 0 0 0 0 0 0 1 1 0 0 1 1 1 0 0 1 0 0 0 0 1 1 1 1 0 0 1 1 1 1 0 0 0 0 0 0 0\n",
      " 1 0 0 0 0 0 0 0 0 0 0 0 1 0 1 0 0 0 0 0 0 0 1 0 1 1 0 0 0 0 0 1 0 0 0 1 0\n",
      " 1 1 1 1 1 0 0 0 1 0 0 0 0 0 0 0 1 0 0 0 0 0 1 0 1 0 1 1 0 0 0 0 0 1 0 0 0\n",
      " 0 1 0 1 0 0 1 0 0 0 1 1 1 1 0 0 0 1 0 0 0 0 0 0 1 1 0 0 0 0 0 0 1 1 0 1 1\n",
      " 0 1 1 1 0 0 0 0 0 0 1 1 0 0 0 0 0 0 0 1 0 0 0 1 0 1 0 0 0 0 0 1 1 0 0 1 0\n",
      " 1 1 0 0 1 1 0 0 0]\n"
     ]
    }
   ],
   "source": [
    "predictions = model.predict(X_test)\n",
    "print('Predicted labels: ', predictions)\n",
    "print('Actual labels:    ' ,y_test)"
   ]
  },
  {
   "cell_type": "code",
   "execution_count": 11,
   "metadata": {},
   "outputs": [],
   "source": [
    "from sklearn.metrics import accuracy_score\n",
    "accuracy = accuracy_score(y_test, predictions)"
   ]
  },
  {
   "cell_type": "code",
   "execution_count": 12,
   "metadata": {},
   "outputs": [
    {
     "name": "stdout",
     "output_type": "stream",
     "text": [
      "1.0\n"
     ]
    }
   ],
   "source": [
    "print (accuracy)"
   ]
  },
  {
   "cell_type": "code",
   "execution_count": 13,
   "metadata": {},
   "outputs": [
    {
     "name": "stdout",
     "output_type": "stream",
     "text": [
      "              precision    recall  f1-score   support\n",
      "\n",
      "           0       1.00      1.00      1.00       157\n",
      "           1       1.00      1.00      1.00        74\n",
      "\n",
      "    accuracy                           1.00       231\n",
      "   macro avg       1.00      1.00      1.00       231\n",
      "weighted avg       1.00      1.00      1.00       231\n",
      "\n"
     ]
    }
   ],
   "source": [
    "from sklearn.metrics import classification_report\n",
    "\n",
    "print(classification_report(y_test, predictions))"
   ]
  },
  {
   "cell_type": "code",
   "execution_count": 14,
   "metadata": {},
   "outputs": [
    {
     "name": "stdout",
     "output_type": "stream",
     "text": [
      "[[1.05282452e-03 9.98947175e-01]\n",
      " [9.99502524e-01 4.97476108e-04]\n",
      " [9.99369255e-01 6.30744813e-04]\n",
      " [6.98756649e-04 9.99301243e-01]\n",
      " [9.99499384e-01 5.00616326e-04]\n",
      " [9.99406376e-01 5.93624023e-04]\n",
      " [5.59149420e-04 9.99440851e-01]\n",
      " [1.26280182e-03 9.98737198e-01]\n",
      " [9.99286293e-01 7.13706861e-04]\n",
      " [9.99661805e-01 3.38195306e-04]\n",
      " [5.70134218e-04 9.99429866e-01]\n",
      " [1.26650520e-03 9.98733495e-01]\n",
      " [9.99675110e-01 3.24889874e-04]\n",
      " [9.99224868e-01 7.75132326e-04]\n",
      " [9.99496640e-01 5.03360381e-04]\n",
      " [9.99556859e-01 4.43141228e-04]\n",
      " [5.98520283e-04 9.99401480e-01]\n",
      " [9.99031328e-01 9.68671963e-04]\n",
      " [9.99791214e-01 2.08786217e-04]\n",
      " [9.99316227e-01 6.83772659e-04]\n",
      " [9.62354614e-04 9.99037645e-01]\n",
      " [7.92339926e-04 9.99207660e-01]\n",
      " [9.98294950e-01 1.70505028e-03]\n",
      " [9.99682929e-01 3.17071438e-04]\n",
      " [9.99251848e-01 7.48151803e-04]\n",
      " [9.99489657e-01 5.10343124e-04]\n",
      " [9.99463194e-01 5.36805902e-04]\n",
      " [9.99663271e-01 3.36728589e-04]\n",
      " [9.99378993e-01 6.21007062e-04]\n",
      " [9.99404599e-01 5.95401453e-04]\n",
      " [9.99592915e-01 4.07084902e-04]\n",
      " [9.99528460e-01 4.71539622e-04]\n",
      " [9.99614148e-01 3.85852247e-04]\n",
      " [9.99403199e-01 5.96800733e-04]\n",
      " [9.99210594e-01 7.89406006e-04]\n",
      " [6.89396087e-04 9.99310604e-01]\n",
      " [5.45438567e-04 9.99454561e-01]\n",
      " [9.99539716e-01 4.60284148e-04]\n",
      " [9.99321029e-01 6.78971016e-04]\n",
      " [9.99555113e-01 4.44887030e-04]\n",
      " [9.99514525e-01 4.85475188e-04]\n",
      " [9.99615038e-01 3.84961907e-04]\n",
      " [9.99281311e-01 7.18688515e-04]\n",
      " [6.97979276e-04 9.99302021e-01]\n",
      " [6.95515212e-04 9.99304485e-01]\n",
      " [9.99039312e-01 9.60688171e-04]\n",
      " [9.99248595e-01 7.51405480e-04]\n",
      " [4.03706369e-04 9.99596294e-01]\n",
      " [4.51734924e-04 9.99548265e-01]\n",
      " [6.38256988e-04 9.99361743e-01]\n",
      " [9.99401303e-01 5.98696634e-04]\n",
      " [9.99277967e-01 7.22033020e-04]\n",
      " [5.15111583e-04 9.99484888e-01]\n",
      " [9.99691298e-01 3.08702493e-04]\n",
      " [9.99516270e-01 4.83730420e-04]\n",
      " [9.98793507e-01 1.20649325e-03]\n",
      " [9.99449537e-01 5.50463450e-04]\n",
      " [1.29387694e-03 9.98706123e-01]\n",
      " [5.20643945e-04 9.99479356e-01]\n",
      " [6.26625390e-05 9.99937337e-01]\n",
      " [1.12946865e-03 9.98870531e-01]\n",
      " [9.99523900e-01 4.76099849e-04]\n",
      " [9.99437371e-01 5.62628932e-04]\n",
      " [2.33471323e-04 9.99766529e-01]\n",
      " [7.10522094e-04 9.99289478e-01]\n",
      " [6.88834228e-04 9.99311166e-01]\n",
      " [9.40373448e-04 9.99059627e-01]\n",
      " [9.99597721e-01 4.02279291e-04]\n",
      " [9.99347312e-01 6.52687783e-04]\n",
      " [9.99482941e-01 5.17059183e-04]\n",
      " [9.99402178e-01 5.97822391e-04]\n",
      " [9.98285451e-01 1.71454897e-03]\n",
      " [9.99539925e-01 4.60074584e-04]\n",
      " [9.99841280e-01 1.58719639e-04]\n",
      " [8.32289308e-04 9.99167711e-01]\n",
      " [9.99642535e-01 3.57465315e-04]\n",
      " [9.99721335e-01 2.78665028e-04]\n",
      " [9.99560307e-01 4.39692839e-04]\n",
      " [9.99598073e-01 4.01926949e-04]\n",
      " [9.99610691e-01 3.89309096e-04]\n",
      " [9.99634226e-01 3.65773949e-04]\n",
      " [9.99571251e-01 4.28749497e-04]\n",
      " [9.99528456e-01 4.71544171e-04]\n",
      " [9.99142205e-01 8.57795225e-04]\n",
      " [9.99426530e-01 5.73469753e-04]\n",
      " [9.99654594e-01 3.45406010e-04]\n",
      " [3.51567971e-04 9.99648432e-01]\n",
      " [9.99343348e-01 6.56651891e-04]\n",
      " [1.02788068e-03 9.98972119e-01]\n",
      " [9.99576969e-01 4.23030953e-04]\n",
      " [9.99569352e-01 4.30647588e-04]\n",
      " [9.99616280e-01 3.83719923e-04]\n",
      " [9.99229001e-01 7.70998776e-04]\n",
      " [9.99391208e-01 6.08792460e-04]\n",
      " [9.99786032e-01 2.13967899e-04]\n",
      " [9.99288695e-01 7.11305367e-04]\n",
      " [6.07074659e-04 9.99392925e-01]\n",
      " [9.99687207e-01 3.12792556e-04]\n",
      " [8.90762318e-04 9.99109238e-01]\n",
      " [6.98870041e-04 9.99301130e-01]\n",
      " [9.99652367e-01 3.47633245e-04]\n",
      " [9.99086865e-01 9.13135291e-04]\n",
      " [9.99705071e-01 2.94928973e-04]\n",
      " [9.99278950e-01 7.21050407e-04]\n",
      " [9.99593300e-01 4.06699576e-04]\n",
      " [4.77787979e-04 9.99522212e-01]\n",
      " [9.99570761e-01 4.29239272e-04]\n",
      " [9.99571986e-01 4.28014231e-04]\n",
      " [9.99419281e-01 5.80719479e-04]\n",
      " [4.46968610e-04 9.99553031e-01]\n",
      " [9.99281668e-01 7.18331912e-04]\n",
      " [5.29373553e-04 9.99470626e-01]\n",
      " [6.07986180e-04 9.99392014e-01]\n",
      " [1.07096001e-03 9.98929040e-01]\n",
      " [5.35870326e-04 9.99464130e-01]\n",
      " [9.33337840e-04 9.99066662e-01]\n",
      " [9.99167820e-01 8.32179692e-04]\n",
      " [9.99225245e-01 7.74755005e-04]\n",
      " [9.99607034e-01 3.92966164e-04]\n",
      " [7.70815570e-04 9.99229184e-01]\n",
      " [9.99690843e-01 3.09156955e-04]\n",
      " [9.99875468e-01 1.24532143e-04]\n",
      " [9.99501367e-01 4.98633429e-04]\n",
      " [9.99634897e-01 3.65103355e-04]\n",
      " [9.99487211e-01 5.12789447e-04]\n",
      " [9.99253338e-01 7.46661795e-04]\n",
      " [9.99630206e-01 3.69793803e-04]\n",
      " [6.21300487e-04 9.99378700e-01]\n",
      " [9.99687619e-01 3.12380718e-04]\n",
      " [9.99617343e-01 3.82657349e-04]\n",
      " [9.99338357e-01 6.61642710e-04]\n",
      " [9.95887410e-01 4.11258997e-03]\n",
      " [9.99302975e-01 6.97024700e-04]\n",
      " [5.49944765e-04 9.99450055e-01]\n",
      " [9.99476515e-01 5.23484529e-04]\n",
      " [6.41173840e-04 9.99358826e-01]\n",
      " [9.99332577e-01 6.67422732e-04]\n",
      " [5.14541118e-04 9.99485459e-01]\n",
      " [1.83303410e-04 9.99816697e-01]\n",
      " [9.99345672e-01 6.54327899e-04]\n",
      " [9.99341737e-01 6.58263048e-04]\n",
      " [9.99596110e-01 4.03889723e-04]\n",
      " [9.99256000e-01 7.43999810e-04]\n",
      " [9.99554235e-01 4.45764665e-04]\n",
      " [5.64393793e-04 9.99435606e-01]\n",
      " [9.99276345e-01 7.23654938e-04]\n",
      " [9.99297060e-01 7.02939818e-04]\n",
      " [9.99417857e-01 5.82142607e-04]\n",
      " [9.99436416e-01 5.63583684e-04]\n",
      " [5.91272262e-04 9.99408728e-01]\n",
      " [9.99240470e-01 7.59529746e-04]\n",
      " [9.04234201e-04 9.99095766e-01]\n",
      " [9.99400045e-01 5.99954565e-04]\n",
      " [9.99504551e-01 4.95449319e-04]\n",
      " [9.29411464e-04 9.99070589e-01]\n",
      " [9.99256371e-01 7.43628564e-04]\n",
      " [9.99697243e-01 3.02756745e-04]\n",
      " [9.99226884e-01 7.73115549e-04]\n",
      " [1.63182042e-04 9.99836818e-01]\n",
      " [2.74313108e-04 9.99725687e-01]\n",
      " [4.90472298e-04 9.99509528e-01]\n",
      " [9.99157948e-04 9.99000842e-01]\n",
      " [9.98881154e-01 1.11884566e-03]\n",
      " [9.99350398e-01 6.49601952e-04]\n",
      " [9.99594163e-01 4.05837350e-04]\n",
      " [1.86087651e-04 9.99813912e-01]\n",
      " [9.99258942e-01 7.41058215e-04]\n",
      " [9.99328434e-01 6.71565573e-04]\n",
      " [9.99395149e-01 6.04851165e-04]\n",
      " [9.99762971e-01 2.37028994e-04]\n",
      " [9.98743890e-01 1.25611050e-03]\n",
      " [9.99486464e-01 5.13536315e-04]\n",
      " [4.76652349e-04 9.99523348e-01]\n",
      " [9.35038508e-04 9.99064961e-01]\n",
      " [9.99805984e-01 1.94015842e-04]\n",
      " [9.99381268e-01 6.18732202e-04]\n",
      " [9.99690269e-01 3.09731278e-04]\n",
      " [9.99594868e-01 4.05132290e-04]\n",
      " [9.99445568e-01 5.54432230e-04]\n",
      " [9.99365828e-01 6.34171608e-04]\n",
      " [6.24577372e-04 9.99375423e-01]\n",
      " [1.43611635e-03 9.98563884e-01]\n",
      " [9.99458819e-01 5.41180866e-04]\n",
      " [9.40593184e-04 9.99059407e-01]\n",
      " [5.22526967e-04 9.99477473e-01]\n",
      " [9.99269922e-01 7.30078310e-04]\n",
      " [2.61954329e-04 9.99738046e-01]\n",
      " [4.70733320e-04 9.99529267e-01]\n",
      " [4.27724090e-04 9.99572276e-01]\n",
      " [9.99233050e-01 7.66950116e-04]\n",
      " [9.99685874e-01 3.14126130e-04]\n",
      " [9.99532646e-01 4.67353501e-04]\n",
      " [9.99136697e-01 8.63303271e-04]\n",
      " [9.99393759e-01 6.06241489e-04]\n",
      " [9.99625227e-01 3.74773363e-04]\n",
      " [7.68667774e-04 9.99231332e-01]\n",
      " [7.08580148e-04 9.99291420e-01]\n",
      " [9.99320754e-01 6.79245531e-04]\n",
      " [9.99214909e-01 7.85090595e-04]\n",
      " [9.99702619e-01 2.97381026e-04]\n",
      " [9.99220728e-01 7.79272435e-04]\n",
      " [9.99243517e-01 7.56483106e-04]\n",
      " [9.99249819e-01 7.50181341e-04]\n",
      " [9.99734768e-01 2.65232301e-04]\n",
      " [4.89239328e-04 9.99510761e-01]\n",
      " [9.99366629e-01 6.33370541e-04]\n",
      " [9.99528432e-01 4.71568289e-04]\n",
      " [9.99565472e-01 4.34527605e-04]\n",
      " [5.50481916e-04 9.99449518e-01]\n",
      " [9.99206884e-01 7.93115900e-04]\n",
      " [7.48349149e-04 9.99251651e-01]\n",
      " [9.99359625e-01 6.40375279e-04]\n",
      " [9.99614647e-01 3.85352529e-04]\n",
      " [9.99415166e-01 5.84833565e-04]\n",
      " [9.99496133e-01 5.03867066e-04]\n",
      " [9.99685937e-01 3.14062993e-04]\n",
      " [3.14526743e-04 9.99685473e-01]\n",
      " [5.63300930e-04 9.99436699e-01]\n",
      " [9.99678160e-01 3.21839838e-04]\n",
      " [9.99683704e-01 3.16296053e-04]\n",
      " [4.64996146e-04 9.99535004e-01]\n",
      " [9.99288571e-01 7.11428573e-04]\n",
      " [1.02615679e-03 9.98973843e-01]\n",
      " [8.44150428e-04 9.99155850e-01]\n",
      " [9.99752834e-01 2.47165533e-04]\n",
      " [9.99651266e-01 3.48733806e-04]\n",
      " [5.35350984e-04 9.99464649e-01]\n",
      " [4.19256548e-04 9.99580743e-01]\n",
      " [9.99224266e-01 7.75733742e-04]\n",
      " [9.99631637e-01 3.68363151e-04]\n",
      " [9.99560944e-01 4.39055740e-04]]\n"
     ]
    }
   ],
   "source": [
    "y_scores = model.predict_proba(X_test)\n",
    "print(y_scores)"
   ]
  },
  {
   "cell_type": "code",
   "execution_count": 15,
   "metadata": {},
   "outputs": [
    {
     "data": {
      "image/png": "[encoded data removed]",
      "text/plain": [
       "<Figure size 432x432 with 1 Axes>"
      ]
     },
     "metadata": {
      "needs_background": "light"
     },
     "output_type": "display_data"
    }
   ],
   "source": [
    "from sklearn.metrics import roc_curve\n",
    "from sklearn.metrics import confusion_matrix\n",
    "\n",
    "# calculate ROC curve\n",
    "fpr, tpr, thresholds = roc_curve(y_test, y_scores[:,1])\n",
    "\n",
    "# plot ROC curve\n",
    "fig = plt.figure(figsize=(6, 6))\n",
    "# Plot the diagonal 50% line\n",
    "plt.plot([0, 1], [0, 1], 'k--')\n",
    "# Plot the FPR and TPR achieved by our model\n",
    "plt.plot(fpr, tpr)\n",
    "plt.xlabel('False Positive Rate')\n",
    "plt.ylabel('True Positive Rate')\n",
    "plt.title('ROC Curve')\n",
    "plt.show()"
   ]
  },
  {
   "cell_type": "code",
   "execution_count": 16,
   "metadata": {},
   "outputs": [
    {
     "name": "stdout",
     "output_type": "stream",
     "text": [
      "AUC: 1.0\n"
     ]
    }
   ],
   "source": [
    "from sklearn.metrics import roc_auc_score\n",
    "\n",
    "auc = roc_auc_score(y_test,y_scores[:,1])\n",
    "print('AUC: ' + str(auc))"
   ]
  },
  {
   "cell_type": "code",
   "execution_count": 18,
   "metadata": {},
   "outputs": [
    {
     "name": "stdout",
     "output_type": "stream",
     "text": [
      "Pipeline(memory=None,\n",
      "         steps=[('preprocessor',\n",
      "                 ColumnTransformer(n_jobs=None, remainder='drop',\n",
      "                                   sparse_threshold=0.3,\n",
      "                                   transformer_weights=None,\n",
      "                                   transformers=[('num',\n",
      "                                                  Pipeline(memory=None,\n",
      "                                                           steps=[('scaler',\n",
      "                                                                   StandardScaler(copy=True,\n",
      "                                                                                  with_mean=True,\n",
      "                                                                                  with_std=True))],\n",
      "                                                           verbose=False),\n",
      "                                                  [0, 1, 2, 3, 4, 5, 6]),\n",
      "                                                 ('cat',\n",
      "                                                  Pipeline(memory=None,\n",
      "                                                           steps=[('onehot',\n",
      "                                                                   OneHotEncoder(catego...\n",
      "                                                                                 handle_unknown='ignore',\n",
      "                                                                                 sparse=True))],\n",
      "                                                           verbose=False),\n",
      "                                                  [7])],\n",
      "                                   verbose=False)),\n",
      "                ('logregressor',\n",
      "                 LogisticRegression(C=100.0, class_weight=None, dual=False,\n",
      "                                    fit_intercept=True, intercept_scaling=1,\n",
      "                                    l1_ratio=None, max_iter=100,\n",
      "                                    multi_class='auto', n_jobs=None,\n",
      "                                    penalty='l2', random_state=None,\n",
      "                                    solver='liblinear', tol=0.0001, verbose=0,\n",
      "                                    warm_start=False))],\n",
      "         verbose=False)\n"
     ]
    }
   ],
   "source": [
    "from sklearn.compose import ColumnTransformer\n",
    "from sklearn.pipeline import Pipeline\n",
    "from sklearn.preprocessing import StandardScaler, OneHotEncoder\n",
    "from sklearn.linear_model import LogisticRegression\n",
    "import numpy as np\n",
    "\n",
    "# Define preprocessing for numeric columns (normalize them so they're on the same scale)\n",
    "numeric_features = [0,1,2,3,4,5,6]\n",
    "numeric_transformer = Pipeline(steps=[\n",
    "    ('scaler', StandardScaler())])\n",
    "\n",
    "# Define preprocessing for categorical features (encode the Age column)\n",
    "categorical_features = [7]\n",
    "categorical_transformer = Pipeline(steps=[\n",
    "    ('onehot', OneHotEncoder(handle_unknown='ignore'))])\n",
    "\n",
    "# Combine preprocessing steps\n",
    "preprocessor = ColumnTransformer(\n",
    "    transformers=[\n",
    "        ('num', numeric_transformer, numeric_features),\n",
    "        ('cat', categorical_transformer, categorical_features)])\n",
    "\n",
    "# Create preprocessing and training pipeline\n",
    "pipeline = Pipeline(steps=[('preprocessor', preprocessor),\n",
    "                           ('logregressor', LogisticRegression(C=1/reg, solver=\"liblinear\"))])\n",
    "\n",
    "\n",
    "# fit the pipeline to train a logistic regression model on the training set\n",
    "model = pipeline.fit(X_train, (y_train))\n",
    "print (model)"
   ]
  },
  {
   "cell_type": "code",
   "execution_count": 20,
   "metadata": {},
   "outputs": [
    {
     "name": "stdout",
     "output_type": "stream",
     "text": [
      "Confusion Matrix:\n",
      " [[135  22]\n",
      " [ 35  39]] \n",
      "\n",
      "Accuracy: 0.7532467532467533\n",
      "Overall Precision: 0.639344262295082\n",
      "Overall Recall: 0.527027027027027\n",
      "AUC: 0.8163195042175934\n"
     ]
    },
    {
     "data": {
      "image/png": "[encoded data removed]",
      "text/plain": [
       "<Figure size 432x432 with 1 Axes>"
      ]
     },
     "metadata": {
      "needs_background": "light"
     },
     "output_type": "display_data"
    }
   ],
   "source": [
    "from sklearn.metrics import precision_score, recall_score\n",
    "\n",
    "predictions = model.predict(X_test)\n",
    "y_scores = model.predict_proba(X_test)\n",
    "\n",
    "# Get evaluation metrics\n",
    "cm = confusion_matrix(y_test, predictions)\n",
    "print ('Confusion Matrix:\\n',cm, '\\n')\n",
    "print('Accuracy:', accuracy_score(y_test, predictions))\n",
    "print(\"Overall Precision:\",precision_score(y_test, predictions))\n",
    "print(\"Overall Recall:\",recall_score(y_test, predictions))\n",
    "auc = roc_auc_score(y_test,y_scores[:,1])\n",
    "print('AUC: ' + str(auc))\n",
    "\n",
    "# calculate ROC curve\n",
    "fpr, tpr, thresholds = roc_curve(y_test, y_scores[:,1])\n",
    "\n",
    "# plot ROC curve\n",
    "fig = plt.figure(figsize=(6, 6))\n",
    "# Plot the diagonal 50% line\n",
    "plt.plot([0, 1], [0, 1], 'k--')\n",
    "# Plot the FPR and TPR achieved by our model\n",
    "plt.plot(fpr, tpr)\n",
    "plt.xlabel('False Positive Rate')\n",
    "plt.ylabel('True Positive Rate')\n",
    "plt.title('ROC Curve')\n",
    "plt.show()"
   ]
  },
  {
   "cell_type": "code",
   "execution_count": 21,
   "metadata": {},
   "outputs": [
    {
     "name": "stdout",
     "output_type": "stream",
     "text": [
      "Pipeline(memory=None,\n",
      "         steps=[('preprocessor',\n",
      "                 ColumnTransformer(n_jobs=None, remainder='drop',\n",
      "                                   sparse_threshold=0.3,\n",
      "                                   transformer_weights=None,\n",
      "                                   transformers=[('num',\n",
      "                                                  Pipeline(memory=None,\n",
      "                                                           steps=[('scaler',\n",
      "                                                                   StandardScaler(copy=True,\n",
      "                                                                                  with_mean=True,\n",
      "                                                                                  with_std=True))],\n",
      "                                                           verbose=False),\n",
      "                                                  [0, 1, 2, 3, 4, 5, 6]),\n",
      "                                                 ('cat',\n",
      "                                                  Pipeline(memory=None,\n",
      "                                                           steps=[('onehot',\n",
      "                                                                   OneHotEncoder(catego...\n",
      "                 RandomForestClassifier(bootstrap=True, ccp_alpha=0.0,\n",
      "                                        class_weight=None, criterion='gini',\n",
      "                                        max_depth=None, max_features='auto',\n",
      "                                        max_leaf_nodes=None, max_samples=None,\n",
      "                                        min_impurity_decrease=0.0,\n",
      "                                        min_impurity_split=None,\n",
      "                                        min_samples_leaf=1, min_samples_split=2,\n",
      "                                        min_weight_fraction_leaf=0.0,\n",
      "                                        n_estimators=100, n_jobs=None,\n",
      "                                        oob_score=False, random_state=None,\n",
      "                                        verbose=0, warm_start=False))],\n",
      "         verbose=False)\n"
     ]
    }
   ],
   "source": [
    "from sklearn.ensemble import RandomForestClassifier\n",
    "\n",
    "# Create preprocessing and training pipeline\n",
    "pipeline = Pipeline(steps=[('preprocessor', preprocessor),\n",
    "                           ('logregressor', RandomForestClassifier(n_estimators=100))])\n",
    "\n",
    "# fit the pipeline to train a random forest model on the training set\n",
    "model = pipeline.fit(X_train, (y_train))\n",
    "print (model)"
   ]
  },
  {
   "cell_type": "code",
   "execution_count": 22,
   "metadata": {},
   "outputs": [
    {
     "name": "stdout",
     "output_type": "stream",
     "text": [
      "Confusion Matrix:\n",
      " [[140  17]\n",
      " [ 39  35]] \n",
      "\n",
      "Accuracy: 0.7575757575757576\n",
      "Overall Precision: 0.6730769230769231\n",
      "Overall Recall: 0.47297297297297297\n",
      "\n",
      "AUC: 0.8262609743501463\n"
     ]
    },
    {
     "data": {
      "image/png": "[encoded data removed]",
      "text/plain": [
       "<Figure size 432x432 with 1 Axes>"
      ]
     },
     "metadata": {
      "needs_background": "light"
     },
     "output_type": "display_data"
    }
   ],
   "source": [
    "predictions = model.predict(X_test)\n",
    "y_scores = model.predict_proba(X_test)\n",
    "cm = confusion_matrix(y_test, predictions)\n",
    "print ('Confusion Matrix:\\n',cm, '\\n')\n",
    "print('Accuracy:', accuracy_score(y_test, predictions))\n",
    "print(\"Overall Precision:\",precision_score(y_test, predictions))\n",
    "print(\"Overall Recall:\",recall_score(y_test, predictions))\n",
    "auc = roc_auc_score(y_test,y_scores[:,1])\n",
    "print('\\nAUC: ' + str(auc))\n",
    "\n",
    "# calculate ROC curve\n",
    "fpr, tpr, thresholds = roc_curve(y_test, y_scores[:,1])\n",
    "\n",
    "# plot ROC curve\n",
    "fig = plt.figure(figsize=(6, 6))\n",
    "# Plot the diagonal 50% line\n",
    "plt.plot([0, 1], [0, 1], 'k--')\n",
    "# Plot the FPR and TPR achieved by our model\n",
    "plt.plot(fpr, tpr)\n",
    "plt.xlabel('False Positive Rate')\n",
    "plt.ylabel('True Positive Rate')\n",
    "plt.title('ROC Curve')\n",
    "plt.show()"
   ]
  },
  {
   "cell_type": "code",
   "execution_count": 23,
   "metadata": {},
   "outputs": [
    {
     "data": {
      "text/plain": [
       "['diabetes_model.pkl']"
      ]
     },
     "execution_count": 23,
     "metadata": {},
     "output_type": "execute_result"
    }
   ],
   "source": [
    "import joblib\n",
    "\n",
    "# Save the model as a pickle file\n",
    "filename = 'diabetes_model.pkl'\n",
    "joblib.dump(model, filename) # Save it at /kaggle/working/diabetes_model.pkl"
   ]
  },
  {
   "cell_type": "code",
   "execution_count": 30,
   "metadata": {},
   "outputs": [
    {
     "name": "stdout",
     "output_type": "stream",
     "text": [
      "New sample: [2.0, 180.0, 74.0, 24.0, 21.0, 23.9091702, 1.488172308, 22.0, 0.0]\n",
      "Predicted class is 0\n"
     ]
    }
   ],
   "source": [
    "# Load the model from the file\n",
    "model = joblib.load('diabetes_model.pkl')\n",
    "# predict on a new sample\n",
    "# The model accepts an array of feature arrays (so you can predict the classes of multiple patients in a single call)\n",
    "# We'll create an array with a single array of features, representing one patient\n",
    "X_new = np.array([[2,180,74,24,21,23.9091702,1.488172308,22]])\n",
    "print ('New sample: {}'.format(list(X_new[0])))\n",
    "\n",
    "# Get a prediction\n",
    "pred = model.predict(X_new)\n",
    "\n",
    "# The model returns an array of predictions - one for each set of features submitted\n",
    "# In our case, we only submitted one patient, so our prediction is the first one in the resulting array.\n",
    "print('Predicted class is {}'.format(pred[0]))"
   ]
  },
  {
   "cell_type": "code",
   "execution_count": null,
   "metadata": {},
   "outputs": [],
   "source": []
  }
 ],
 "metadata": {
  "kernelspec": {
   "display_name": "Python 3",
   "language": "python",
   "name": "python3"
  },
  "language_info": {
   "codemirror_mode": {
    "name": "ipython",
    "version": 3
   },
   "file_extension": ".py",
   "mimetype": "text/x-python",
   "name": "python",
   "nbconvert_exporter": "python",
   "pygments_lexer": "ipython3",
   "version": "3.7.3"
  }
 },
 "nbformat": 4,
 "nbformat_minor": 2
}
